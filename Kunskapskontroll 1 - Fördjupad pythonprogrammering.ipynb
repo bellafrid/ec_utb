{
 "cells": [
  {
   "cell_type": "markdown",
   "id": "9d8fd324",
   "metadata": {},
   "source": [
    "Inlämningsuppgift 1 - Isabella Frid"
   ]
  },
  {
   "cell_type": "markdown",
   "id": "ba25f133",
   "metadata": {},
   "source": [
    "Fråga 1\n",
    "I Python så kan man skapa grafiska användargränssnitt (GUI = Graphical User Interface).\n",
    "Ett sådant exempel där biblioteket ”tkinter” används kan du se i mappen ”csv_viewer”.\n",
    "Granska koden, förstå vad som sker och skriv kort ned vad programmet gör. "
   ]
  },
  {
   "cell_type": "markdown",
   "id": "27c1c9f1",
   "metadata": {},
   "source": [
    "Man läser in en CSV-fil med hjälp av Pandas och sparar innehållet i en dataframe. Man skapar sedan en grafisk vy i form av ett fönster och visar innehållet i en tabell med hjälp av Treeview. Som användare kan man filtrera innehållet, samt se antalet rader i tabellen - både i den fullständiga vyn och i den filtrerade. Man kan även spara ner den filtrerade datan till en ny CSV-fil. Man har även lagt in funktioner som att kolumnbredd är anpassad efter dess innehåll och både verikala och horisontella scrollbars."
   ]
  },
  {
   "cell_type": "markdown",
   "id": "0f8cc0d7",
   "metadata": {},
   "source": [
    "Fråga 2 - frågor från kapitel 6-11 "
   ]
  },
  {
   "cell_type": "markdown",
   "id": "4a88c7a2",
   "metadata": {},
   "source": [
    "6.1 - Kolla vilka klasser variablerna a, b, c, och d tillhör genom att använda type() funktionen. Notera att vi i variablen d har sparat en funktion. Vi hade kunnat anropa den genom att till exempel skriva d(2)."
   ]
  },
  {
   "cell_type": "code",
   "execution_count": 1,
   "id": "e8a42918",
   "metadata": {},
   "outputs": [],
   "source": [
    "a = 10 \n",
    "b = [5, 7, 3] \n",
    "c = {2, 7, 1, 8, 2, 8}\n",
    "\n",
    "def my_fun(x):\n",
    "    return 2*2\n",
    "\n",
    "d = my_fun"
   ]
  },
  {
   "cell_type": "code",
   "execution_count": 2,
   "id": "57ed2223",
   "metadata": {},
   "outputs": [
    {
     "name": "stdout",
     "output_type": "stream",
     "text": [
      "<class 'int'>\n",
      "<class 'list'>\n",
      "<class 'set'>\n",
      "<class 'function'>\n",
      "<class 'int'>\n"
     ]
    }
   ],
   "source": [
    "# Skriver ut datatyp för variablerna \n",
    "print(type(a))\n",
    "print(type(b))\n",
    "print(type(c))\n",
    "print(type(d))\n",
    "print(type(d(2)))"
   ]
  },
  {
   "cell_type": "markdown",
   "id": "015096e0",
   "metadata": {},
   "source": [
    "6.2 - a) Kolla om variablen \"my_variable\" är en instans av \"tuple\" klassen genom att använda isinstance() funktionen.\n",
    "\n",
    "b) Kolla om variablen \"my_variable\" är en instans av \"list\" klassen genom att använda isinstance() funktionen."
   ]
  },
  {
   "cell_type": "code",
   "execution_count": 3,
   "id": "65288a91",
   "metadata": {},
   "outputs": [],
   "source": [
    "my_variable = (1, 1, 2, 3, 5)"
   ]
  },
  {
   "cell_type": "code",
   "execution_count": 4,
   "id": "44944bb0",
   "metadata": {},
   "outputs": [
    {
     "name": "stdout",
     "output_type": "stream",
     "text": [
      "True\n"
     ]
    }
   ],
   "source": [
    "# Kollar om variabeln är en tuple\n",
    "print(isinstance(my_variable, tuple)) "
   ]
  },
  {
   "cell_type": "code",
   "execution_count": 5,
   "id": "5a89d87e",
   "metadata": {},
   "outputs": [
    {
     "name": "stdout",
     "output_type": "stream",
     "text": [
      "False\n"
     ]
    }
   ],
   "source": [
    "# Kollar om variabeln är en lista\n",
    "print(isinstance(my_variable, list)) "
   ]
  },
  {
   "cell_type": "markdown",
   "id": "203830f8",
   "metadata": {},
   "source": [
    "6.3 - I denna uppgiften skall du göra följande:\n",
    "\n",
    "a) Skapa en klass som heter \"FruitProduct\" som har en docstring där det står \"A class representing fruit products in a grocery store.\".\n",
    "\n",
    "b) Klassen skall ha instans-attributen \"price\" och \"quantity\". Detta gör du i samband med \\_init___() .\n",
    "\n",
    "c) Instantiera klassen och spara instansen i variablen \"swedish_apples\". Dess pris skall vara 52 och dess kvantitet 1. Det är underförstått att vi menar kronor respektive kg.\n",
    "\n",
    "d) Printa ut klassens docstring genom att använda dig av \\_doc___.\n",
    "\n",
    "e) Printa ut attributen från \"swedish_apples\" instansen.\n",
    "\n",
    "f) Kolla vilken klass instansen \"swedish_apples\" tillhör genom att använda type() metoden.\n",
    "\n",
    "g) Kolla om \"swedish_apples\" tillhör klassen \"FruitProduct\" genom att använda isinstance() metoden."
   ]
  },
  {
   "cell_type": "code",
   "execution_count": 6,
   "id": "f93a43d8",
   "metadata": {},
   "outputs": [
    {
     "name": "stdout",
     "output_type": "stream",
     "text": [
      "A class representing fruit products in a grocery store.\n"
     ]
    }
   ],
   "source": [
    "# Skapar en klass och sätter in attribut för pris och kvantitet\n",
    "class FruitProduct:\n",
    "    \"\"\"A class representing fruit products in a grocery store.\"\"\"\n",
    "    \n",
    "    def __init__(self, price, quantity):\n",
    "        self.price = price\n",
    "        self.quantity = quantity\n",
    "\n",
    "# Sparar instansen i variabeln\n",
    "swedish_apples = FruitProduct(52, 1)\n",
    "\n",
    "# Skriver ut klassens docstring\n",
    "print(FruitProduct.__doc__)"
   ]
  },
  {
   "cell_type": "code",
   "execution_count": 7,
   "id": "eb68c843",
   "metadata": {},
   "outputs": [
    {
     "name": "stdout",
     "output_type": "stream",
     "text": [
      "Pris: 52\n",
      "Kvantitet: 1\n"
     ]
    }
   ],
   "source": [
    "# Skriver ut variabelns pris och kvantitet\n",
    "print(\"Pris:\", swedish_apples.price)\n",
    "print(\"Kvantitet:\", swedish_apples.quantity)"
   ]
  },
  {
   "cell_type": "code",
   "execution_count": 8,
   "id": "8c5a8a82",
   "metadata": {},
   "outputs": [
    {
     "name": "stdout",
     "output_type": "stream",
     "text": [
      "<class '__main__.FruitProduct'>\n"
     ]
    }
   ],
   "source": [
    "# Skriver ut klassen för instansen\n",
    "print(type(swedish_apples))"
   ]
  },
  {
   "cell_type": "code",
   "execution_count": 9,
   "id": "046ffffc",
   "metadata": {},
   "outputs": [
    {
     "name": "stdout",
     "output_type": "stream",
     "text": [
      "True\n"
     ]
    }
   ],
   "source": [
    "# Kollar om variabeln tillhör klassen\n",
    "print(isinstance(swedish_apples, FruitProduct))"
   ]
  },
  {
   "cell_type": "markdown",
   "id": "3d012801",
   "metadata": {},
   "source": [
    "6.4 - Skapa en klass \"Square\" vars instanser har attributet \"side_length\". Skapa två metoder, \"perimeter()\" och \"area()\" där metoderna beräknar omkretsen respektive arean givet längden på kvadraternas sidor som finns i attributet \"side_length\". Skapa en instans \"my_square\" med sidlängden 8. Beräkna omkretsen och arean av \"my_square\" genom att använda de två metoderna som du har skapat."
   ]
  },
  {
   "cell_type": "code",
   "execution_count": 10,
   "id": "776d9733",
   "metadata": {},
   "outputs": [
    {
     "name": "stdout",
     "output_type": "stream",
     "text": [
      "Omkretsen av kvadraten är 32\n",
      "Arean av kvadraten är 64\n"
     ]
    }
   ],
   "source": [
    "# Skapar en klass med attribut och metoder\n",
    "class Square:\n",
    "    def __init__(self, side_length):\n",
    "        self.side_length = side_length\n",
    "    \n",
    "    def perimeter(self):\n",
    "        return 4 * self.side_length\n",
    "    \n",
    "    def area(self):\n",
    "        return self.side_length ** 2\n",
    "\n",
    "# Skapar en instans med sidlängden 8\n",
    "my_square = Square(8)\n",
    "\n",
    "# Räknar och skriver ut omkrets och area\n",
    "print(\"Omkretsen av kvadraten är\", my_square.perimeter())\n",
    "print(\"Arean av kvadraten är\", my_square.area())"
   ]
  },
  {
   "cell_type": "markdown",
   "id": "4905e9d6",
   "metadata": {},
   "source": [
    "6.5 - \n",
    "a) Förklara vad nedanstående kod gör.\n",
    "\n",
    "b) Prova ändra variabeln L i koden nedan till en tuple och se vad som sker när du kör om all kod."
   ]
  },
  {
   "cell_type": "code",
   "execution_count": 11,
   "id": "ed801758",
   "metadata": {},
   "outputs": [],
   "source": [
    "class DescriptiveStatistics():\n",
    "    \"\"\"This class provides functionality for calculating descriptive statistics from a list.\"\"\"\n",
    "    \n",
    "    def __init__(self):\n",
    "        self.data = []\n",
    "    \n",
    "    def add_data(self, data):\n",
    "        if isinstance(data, list):\n",
    "            self.data.extend(data)\n",
    "        else:\n",
    "            # Code below raises an error if the data is not a list. Will be covered in chapter 8 of the book. \n",
    "            raise Exception('Only \"Lists\" are accepted as data.')  \n",
    "            \n",
    "    def calc_sum(self):\n",
    "        return sum(self.data)\n",
    "    \n",
    "    def calc_nbr_of_elements(self):\n",
    "        return len(self.data)\n",
    "    \n",
    "    def calc_mean(self):\n",
    "        return (self.calc_sum())/(self.calc_nbr_of_elements())\n",
    "    \n",
    "    def print_summary(self):\n",
    "        print('Sum:', self.calc_sum())\n",
    "        print('Number of elements:', self.calc_nbr_of_elements())\n",
    "        print('Mean:', self.calc_mean())  "
   ]
  },
  {
   "cell_type": "code",
   "execution_count": 12,
   "id": "d513078d",
   "metadata": {},
   "outputs": [],
   "source": [
    "L = [1, 2, 1, 3, 5, 7, 4, 9, 10, 3, 2, 1, 6, 4, 3, 2, 1, 10, 9, 1, 8, 7, 3, 2, 1]\n",
    "my_data = DescriptiveStatistics()\n",
    "my_data.add_data(L)"
   ]
  },
  {
   "cell_type": "code",
   "execution_count": 13,
   "id": "6fe58190",
   "metadata": {},
   "outputs": [
    {
     "data": {
      "text/plain": [
       "[1, 2, 1, 3, 5, 7, 4, 9, 10, 3, 2, 1, 6, 4, 3, 2, 1, 10, 9, 1, 8, 7, 3, 2, 1]"
      ]
     },
     "execution_count": 13,
     "metadata": {},
     "output_type": "execute_result"
    }
   ],
   "source": [
    "my_data.data"
   ]
  },
  {
   "cell_type": "code",
   "execution_count": 14,
   "id": "d78a0be2",
   "metadata": {},
   "outputs": [
    {
     "name": "stdout",
     "output_type": "stream",
     "text": [
      "Sum: 105\n",
      "Number of elements: 25\n",
      "Mean: 4.2\n"
     ]
    }
   ],
   "source": [
    "print('Sum:', my_data.calc_sum())\n",
    "print('Number of elements:', my_data.calc_nbr_of_elements())\n",
    "print('Mean:', my_data.calc_mean())"
   ]
  },
  {
   "cell_type": "code",
   "execution_count": 15,
   "id": "2db58ab8",
   "metadata": {},
   "outputs": [
    {
     "name": "stdout",
     "output_type": "stream",
     "text": [
      "Sum: 105\n",
      "Number of elements: 25\n",
      "Mean: 4.2\n"
     ]
    }
   ],
   "source": [
    "my_data.print_summary()"
   ]
  },
  {
   "cell_type": "markdown",
   "id": "6d228b95",
   "metadata": {},
   "source": [
    "Svar: Koden skapar en klass för att räkna ut statistik från en lista. Ändrar jag variabeln L till en tuple kommer felmeddelandet \"Only \"Lists\" are accepted as data.\" att skrivas ut. "
   ]
  },
  {
   "cell_type": "markdown",
   "id": "78da3ee4",
   "metadata": {},
   "source": [
    "6.6 - a) Skapa en klass som heter BankAccount. Klassen skall ha attributet \"account_holder\" som visar kontoinnehavarens namn samt attributet \"balance\" som visar kontoinnehavarens balans. Klassen skall ha metoden \"deposit()\" för att kunna sätta in pengar på kontot samt metoden \"withdraw()\" för att kunna ta ut pengar från kontot. Om bankinnehavaren försöker ta ut mer pengar än vad som finns på kontot skall meddelandet \"Too low balance\" printas ut.\n",
    "\n",
    "b) Skapa en instans av klassen och testa så klassen funkar så som du förväntar dig. Du kan till exempel prova printa ut attributen, sätta in pengar och ta ut pengar."
   ]
  },
  {
   "cell_type": "code",
   "execution_count": 16,
   "id": "ea3535b9",
   "metadata": {},
   "outputs": [],
   "source": [
    "# Skapar klass med konotinnehavarade och saldo, med metod för att sätta in och ta ut pengar.\n",
    "class BankAccount:\n",
    "    def __init__(self, account_holder, balance=0):\n",
    "        self.account_holder = account_holder\n",
    "        self.balance = balance\n",
    "\n",
    "    def deposit(self, amount):\n",
    "        if amount > 0:\n",
    "            self.balance += amount\n",
    "            print(f\"{amount} kr has deposited on your account. New balance: {self.balance} kr.\")\n",
    "        else:\n",
    "            print(\"The deposit needs to be at least 1 kr, please try again.\")\n",
    "\n",
    "    def withdraw(self, amount):\n",
    "        if amount > self.balance:\n",
    "            print(\"Too low balance\")\n",
    "        elif amount > 0:\n",
    "            self.balance -= amount\n",
    "            print(f\"{amount} kr has withdrawn from your account. New balance: {self.balance} kr.\")\n",
    "        else:\n",
    "            print(\"The withdrawal needs to be at least 1 kr, please try again.\")"
   ]
  },
  {
   "cell_type": "code",
   "execution_count": 17,
   "id": "37add306",
   "metadata": {},
   "outputs": [
    {
     "name": "stdout",
     "output_type": "stream",
     "text": [
      "Kontoinnehavare: Bella\n",
      "Saldo: 5000\n"
     ]
    }
   ],
   "source": [
    "my_account = BankAccount(\"Bella\", 5000)\n",
    "\n",
    "print(\"Kontoinnehavare:\", my_account.account_holder)\n",
    "print(\"Saldo:\", my_account.balance)"
   ]
  },
  {
   "cell_type": "code",
   "execution_count": 18,
   "id": "43d9dbd8",
   "metadata": {},
   "outputs": [
    {
     "name": "stdout",
     "output_type": "stream",
     "text": [
      "500 kr has deposited on your account. New balance: 5500 kr.\n"
     ]
    }
   ],
   "source": [
    "my_account.deposit(500)"
   ]
  },
  {
   "cell_type": "code",
   "execution_count": 19,
   "id": "b2a0ea92",
   "metadata": {},
   "outputs": [
    {
     "name": "stdout",
     "output_type": "stream",
     "text": [
      "300 kr has withdrawn from your account. New balance: 5200 kr.\n"
     ]
    }
   ],
   "source": [
    "my_account.withdraw(300)"
   ]
  },
  {
   "cell_type": "code",
   "execution_count": 20,
   "id": "f30f6f45",
   "metadata": {},
   "outputs": [
    {
     "name": "stdout",
     "output_type": "stream",
     "text": [
      "Too low balance\n"
     ]
    }
   ],
   "source": [
    "my_account.withdraw(6000)"
   ]
  },
  {
   "cell_type": "code",
   "execution_count": 21,
   "id": "35f6931a",
   "metadata": {},
   "outputs": [
    {
     "name": "stdout",
     "output_type": "stream",
     "text": [
      "Saldo: 5200\n"
     ]
    }
   ],
   "source": [
    "print(\"Saldo:\", my_account.balance)"
   ]
  },
  {
   "cell_type": "markdown",
   "id": "6729f9a0",
   "metadata": {},
   "source": [
    "6.7 - Din kollega Adrian frågar dig, vad är klasser för något? Försök förklara detta för Adrian. Använd begreppen instanser, attribut samt metoder i din förklaring."
   ]
  },
  {
   "cell_type": "markdown",
   "id": "80bfe932",
   "metadata": {},
   "source": [
    "Svar: Klasser är som en mall för hur ett objekt ska fungera med hjälp av instanser, attribut och metoder. Attribut beskriver vilka egenskaper ett objekt har. I en klass \"Bilar\" kan vi ha attributen \"Modell\" och \"Färg\" där varje instans sedan har egna värden av dessa attribut. Metoder är funktioner för vad objektet kan göra. I samma klass \"Bilar\" kan vi ha metoderna \"köra\" och \"tuta\". Vi kan sedan skapa instanser, tex en röd volvo som kan köra och tuta."
   ]
  },
  {
   "cell_type": "markdown",
   "id": "c22090e2",
   "metadata": {},
   "source": [
    "7.1 - Läs \"PEP 8 – Style Guide for Python Cod\" och besvaranedanstående frågor.\n",
    "\n",
    "a) Om du arbetar i ett projekt som har ett internt dokument med \"style guidelines\" där vissa saker går emot vad PEP8 säger. Vad gör du då?\n",
    "\n",
    "b) På vilket språk skall kommentarer generellt sett skrivas.\n",
    "\n",
    "c) Hur skall funktioner och variabler namnges?\n",
    "\n",
    "d) Hur skall klasser namnges?\n",
    "\n",
    "e) Om du i ditt skript importerar exempelvis en modul, vart i skriptet skall koden som utför importen placeras?\n",
    "\n",
    "f) Enligt PEP8, skall man använda enkla ('my_string') eller dubbla (\"my_string\") citattecken för att skapa en sträng?\n",
    "\n",
    "g) Vilket av \"Alternativ 1\" och \"Alternativ 2\" nedan är det korrekta sättet att skriva koden på enligt PEP8?"
   ]
  },
  {
   "cell_type": "markdown",
   "id": "359b76fe",
   "metadata": {},
   "source": [
    "Svar: \n",
    "    \n",
    "    a: PEP8 rekommenderar att man följer de interna riktlinjerna om det sker konflikt med PEP8.\n",
    "    b: Engelska\n",
    "    c: Funktioner och variabel namnges med gemener och understreck\n",
    "    d: Klasser namnges med \"CamelCase\", dvs varje ord börjar med stor bokstav och inga understreck används\n",
    "    e: Alla import-satser ska anges först i koden\n",
    "    f: Man kan använda både enkla och dubbla citattecken, men man bör använda samma tecken genom hela koden.\n",
    "    g: Alternativ 1 är korrekt. Man ska använda mellanslag mellan operatorer för att göra koden mer läsbar. \n",
    "    "
   ]
  },
  {
   "cell_type": "markdown",
   "id": "08eb8f0b",
   "metadata": {},
   "source": [
    "7.2 - I \"PEP20 - The Zen of Python\" så står det:\n",
    "\n",
    "a) \"Explicit is better than implicit.\" Vad tror du det innebär? Kan du exemplifiera?\n",
    "\n",
    "b) \"Simple is better than complex.\" Vad tror du det innebär? Kan du exemplifiera? ."
   ]
  },
  {
   "cell_type": "markdown",
   "id": "4c04db5b",
   "metadata": {},
   "source": [
    "Svar: \n",
    "    \n",
    "    a: Det är bättre att vara tydlig än att det ska vara underförstått. Tex när man skriver en funktion så kan  det vara bättre att skriva modul.funktion än enbart funktion så man vet vart funktionen kommer ifrån. \n",
    "    \n",
    "    b: Det är bättre att skriva en simpel kod över en komplex. En simpel kod är lättare att förstå och felsöka, och det kan vara att man bara delar upp koden så man på enklare sätt kan lägga till funktioner eller göra ändringar."
   ]
  },
  {
   "cell_type": "markdown",
   "id": "6a567c6e",
   "metadata": {},
   "source": [
    "7.3 - Du och din nya kollega har en fikapaus och han säger följande: \"Det känns krångligt att vi alla skall behöva följa konventioner och standarder. Är det inte lättare om alla bara skriver kod på det sättet som de vill, sålänge som den fungerar\"? Vad svarar du?"
   ]
  },
  {
   "cell_type": "markdown",
   "id": "abc90e34",
   "metadata": {},
   "source": [
    "Svar: Det är mycket enklare om alla följer samma riktlinjer, dels så att hela koden skrivs på samma sätt så att alla förstår, kan underhålla/ändra koden, och så man slipper krångliga felsökningar när kod inte fungerar."
   ]
  },
  {
   "cell_type": "markdown",
   "id": "3dbe1b64",
   "metadata": {},
   "source": [
    "8.1 - Din kollega Johanna frågar dig:\n",
    "\n",
    "a) Vad är syntax errors?\n",
    "\n",
    "b) Varför skulle man vilja \"fånga exceptions\" i ett program och inte bara låta programmet stanna vid fel?\n",
    "\n",
    "c) Varför skulle man vilja \"lyfta exceptions\" i ett program?"
   ]
  },
  {
   "cell_type": "markdown",
   "id": "1027d5d7",
   "metadata": {},
   "source": [
    "Svar: \n",
    "    \n",
    "    a: Syntax error är man skriver programmeringsspråkets regler fel, tex att man använder ( istället för { eller saknaden av kolon.\n",
    "    b: Dels pga användarupplevelsen men också för att enklare kunna hitta fel. Istället att programmet slutar fungera helt så skrivs ett felmeddelande ut.\n",
    "    c: Man kan vilja lyfta exceptions för att logga fel och låta en annan del av koden hantera felet på ett övergripande sätt."
   ]
  },
  {
   "cell_type": "markdown",
   "id": "1a88d883",
   "metadata": {},
   "source": [
    "8.2 - a) Förklara vad nedanstående kod gör.\n",
    "\n",
    "b) Generellt sett, vad är poängen med att använda \"else\"?"
   ]
  },
  {
   "cell_type": "code",
   "execution_count": 22,
   "id": "9beb0d7e",
   "metadata": {},
   "outputs": [
    {
     "name": "stdout",
     "output_type": "stream",
     "text": [
      "314\n",
      "Invalid input, cannot convert to integer.\n"
     ]
    }
   ],
   "source": [
    "def convert_string_to_int(string):\n",
    "    try:\n",
    "        int(string)\n",
    "    except ValueError:\n",
    "        return \"Invalid input, cannot convert to integer.\"\n",
    "    else:\n",
    "        return int(string)\n",
    "\n",
    "print(convert_string_to_int(\"314\")) \n",
    "print(convert_string_to_int(\"abc\"))  "
   ]
  },
  {
   "cell_type": "markdown",
   "id": "91e5a95e",
   "metadata": {},
   "source": [
    "Svar: Koden definerar en funktion för att konvertera en string till en int. Om värdefel uppstår ska felmeddelande skrivas ut, annars ska värdet skrivas ut som int. I detta fall kan inte bokstäver konverteras till en int och fel skrivs ut, medans siffrorna kan konverteras som ett heltal till en int."
   ]
  },
  {
   "cell_type": "markdown",
   "id": "b35c1996",
   "metadata": {},
   "source": [
    "8.3 - Skriv ett kodexempel där du fångar en exception. Endast din kreativitet sätter gränser."
   ]
  },
  {
   "cell_type": "code",
   "execution_count": 23,
   "id": "c123fde9",
   "metadata": {},
   "outputs": [
    {
     "name": "stdout",
     "output_type": "stream",
     "text": [
      "Ange ett heltal: 5\n",
      "Du angav heltalet: 5\n"
     ]
    }
   ],
   "source": [
    "# Skapar en funktion där en användare ska ange ett heltal. Anges inte ett heltal skrivs felmeddelande ut.\n",
    "def get_int():\n",
    "    try:\n",
    "        user_input = input(\"Ange ett heltal: \")\n",
    "        user_number = int(user_input)\n",
    "        print(f\"Du angav heltalet: {user_number}\")\n",
    "        \n",
    "    except ValueError:\n",
    "        print(\"Du angav inte ett giltigt heltal, vänligen försök igen.\")\n",
    "\n",
    "get_int()"
   ]
  },
  {
   "cell_type": "markdown",
   "id": "0d590d08",
   "metadata": {},
   "source": [
    "8.4 - Skapa en funktion \"add_two_small_numbers\" som adderar två tal. Om något av talen är större än 100 så skall du lyfta en exception och skriva ut meddelandet \"both numbers must be smaller than or equal to 100\"."
   ]
  },
  {
   "cell_type": "code",
   "execution_count": 24,
   "id": "5b58e37a",
   "metadata": {},
   "outputs": [
    {
     "name": "stdout",
     "output_type": "stream",
     "text": [
      "Result: 107\n",
      "Both numbers must be smaller than or equal to 100\n"
     ]
    }
   ],
   "source": [
    "def add_two_small_numbers(num1, num2):\n",
    "    if num1 > 100 or num2 > 100:\n",
    "        raise ValueError(\"Both numbers must be smaller than or equal to 100\")\n",
    "    return num1 + num2\n",
    "\n",
    "try:\n",
    "    result = add_two_small_numbers(35, 72)\n",
    "    print(f\"Result: {result}\")\n",
    "except ValueError as e:\n",
    "    print(e)\n",
    "\n",
    "try:\n",
    "    result = add_two_small_numbers(159, 83)\n",
    "    print(f\"Result: {result}\")\n",
    "except ValueError as e:\n",
    "    print(e)"
   ]
  },
  {
   "cell_type": "markdown",
   "id": "77089a90",
   "metadata": {},
   "source": [
    "8.5 - Din kollega, som är en skicklig programmerare, brukar innan hon försöker göra ett perfekt fungerande program testa olika ideér för att undersöka och lära sig mer om det problem hon försöker lösa. Nedan ser du ett av hennes skript som gjorts i syfte att undersöka och lära sig mer. Förklara vad det är hon gjort."
   ]
  },
  {
   "cell_type": "code",
   "execution_count": 25,
   "id": "171abc39",
   "metadata": {},
   "outputs": [
    {
     "name": "stdout",
     "output_type": "stream",
     "text": [
      "<class 'TypeError'>\n",
      "unsupported operand type(s) for +: 'int' and 'str'\n"
     ]
    }
   ],
   "source": [
    "# Checking which exception is raised\n",
    "try:\n",
    "    5 + \"Python is fun!\"\n",
    "except Exception as exception_instance:\n",
    "    print(type(exception_instance))\n",
    "    print(exception_instance)"
   ]
  },
  {
   "cell_type": "markdown",
   "id": "64bbb056",
   "metadata": {},
   "source": [
    "Svar: Här vill man se vilket undantag som görs när man testar att plussa ihop en int med en sträng. Detta blir ett type error då detta inte är möjligt och undantaget kastas."
   ]
  },
  {
   "cell_type": "code",
   "execution_count": 26,
   "id": "bf9472d2",
   "metadata": {},
   "outputs": [
    {
     "name": "stdout",
     "output_type": "stream",
     "text": [
      "<class 'ZeroDivisionError'>\n",
      "division by zero\n"
     ]
    }
   ],
   "source": [
    "# Checking which exception is raised\n",
    "try:\n",
    "    5/0\n",
    "except Exception as exception_instance:\n",
    "    print(type(exception_instance))\n",
    "    print(exception_instance)"
   ]
  },
  {
   "cell_type": "markdown",
   "id": "054977b4",
   "metadata": {},
   "source": [
    "Svar: Här testar man att dividera 5 med 0 vilket kommer kasta ett \"ZeroDivisionError\" och meddelandet av undantaget skrivs ut."
   ]
  },
  {
   "cell_type": "code",
   "execution_count": 27,
   "id": "a8b7196e",
   "metadata": {},
   "outputs": [],
   "source": [
    "def add_two_numbers(a, b):\n",
    "    try:\n",
    "        return(a/b)\n",
    "    except TypeError:\n",
    "        print(\"Both arguments must be numbers.\")\n",
    "    except ZeroDivisionError:\n",
    "        print(\"Division by zero is not defined.\")        "
   ]
  },
  {
   "cell_type": "markdown",
   "id": "4f0806a6",
   "metadata": {},
   "source": [
    "Svar: Här använder man exception för att fånga två specifika undantag, TypeError och Zerodivision."
   ]
  },
  {
   "cell_type": "code",
   "execution_count": 28,
   "id": "0ae4fac2",
   "metadata": {},
   "outputs": [
    {
     "name": "stdout",
     "output_type": "stream",
     "text": [
      "2.5\n",
      "Both arguments must be numbers.\n",
      "None\n",
      "Division by zero is not defined.\n",
      "None\n"
     ]
    }
   ],
   "source": [
    "# Testing so the functionality is as expected\n",
    "print(add_two_numbers(5, 2))\n",
    "print(add_two_numbers(5, \"hello\"))\n",
    "print(add_two_numbers(5, 0))"
   ]
  },
  {
   "cell_type": "markdown",
   "id": "e8e579f3",
   "metadata": {},
   "source": [
    "Svar: Här testar man funktionalitet av funktionen \"add_two_numbers\" med 3 olika argument."
   ]
  },
  {
   "cell_type": "markdown",
   "id": "c828877d",
   "metadata": {},
   "source": [
    "9.1 - Varför är det generellt sett en god idé att bygga upp tester för sin kod?"
   ]
  },
  {
   "cell_type": "markdown",
   "id": "c0970088",
   "metadata": {},
   "source": [
    "Svar: Det kan vara bra för att hitta eventuella fel tidigt, eller för att testa funktionaliteten i koden. Koden kan även uppfattas som mer läsbar."
   ]
  },
  {
   "cell_type": "markdown",
   "id": "efe2f3b3",
   "metadata": {},
   "source": [
    "9.2 - Nedan ser du funktionen multiply_two_numbers. Använd \"doctest\" modulen för att implementera några test för funktionen \"multiply_two_numbers\". Den läsare som önskar kan även implementera testen i modulen \"pytest\"."
   ]
  },
  {
   "cell_type": "code",
   "execution_count": 29,
   "id": "663e60bb",
   "metadata": {},
   "outputs": [],
   "source": [
    "def multiply_two_numbers(a, b):\n",
    "    \"\"\"Return the product of a and b.\"\"\"\n",
    "    return a*b"
   ]
  },
  {
   "cell_type": "code",
   "execution_count": 34,
   "id": "beeb44ff",
   "metadata": {},
   "outputs": [
    {
     "name": "stdout",
     "output_type": "stream",
     "text": [
      "Trying:\n",
      "    multiply_two_numbers(2, 3)\n",
      "Expecting:\n",
      "    6\n",
      "ok\n",
      "Trying:\n",
      "    multiply_two_numbers(-1, 5)\n",
      "Expecting:\n",
      "    -5\n",
      "ok\n",
      "Trying:\n",
      "    multiply_two_numbers(0, 100)\n",
      "Expecting:\n",
      "    0\n",
      "ok\n",
      "Trying:\n",
      "    multiply_two_numbers(3, 1.5)\n",
      "Expecting:\n",
      "    4.5\n",
      "ok\n",
      "Trying:\n",
      "    multiply_two_numbers(-2, -4)\n",
      "Expecting:\n",
      "    8\n",
      "ok\n",
      "24 items had no tests:\n",
      "    __main__\n",
      "    __main__.BankAccount\n",
      "    __main__.BankAccount.__init__\n",
      "    __main__.BankAccount.deposit\n",
      "    __main__.BankAccount.withdraw\n",
      "    __main__.DescriptiveStatistics\n",
      "    __main__.DescriptiveStatistics.__init__\n",
      "    __main__.DescriptiveStatistics.add_data\n",
      "    __main__.DescriptiveStatistics.calc_mean\n",
      "    __main__.DescriptiveStatistics.calc_nbr_of_elements\n",
      "    __main__.DescriptiveStatistics.calc_sum\n",
      "    __main__.DescriptiveStatistics.print_summary\n",
      "    __main__.FruitProduct\n",
      "    __main__.FruitProduct.__init__\n",
      "    __main__.Square\n",
      "    __main__.Square.__init__\n",
      "    __main__.Square.area\n",
      "    __main__.Square.perimeter\n",
      "    __main__.add_two_numbers\n",
      "    __main__.add_two_small_numbers\n",
      "    __main__.convert_string_to_int\n",
      "    __main__.get_int\n",
      "    __main__.my_fun\n",
      "    __main__.test_multiply_two_numbers\n",
      "1 items passed all tests:\n",
      "   5 tests in __main__.multiply_two_numbers\n",
      "5 tests in 25 items.\n",
      "5 passed and 0 failed.\n",
      "Test passed.\n"
     ]
    }
   ],
   "source": [
    "def multiply_two_numbers(a, b):\n",
    "    \"\"\"\n",
    "    Return the product of a and b.\n",
    "\n",
    "    >>> multiply_two_numbers(2, 3)\n",
    "    6\n",
    "    >>> multiply_two_numbers(-1, 5)\n",
    "    -5\n",
    "    >>> multiply_two_numbers(0, 100)\n",
    "    0\n",
    "    >>> multiply_two_numbers(3, 1.5)\n",
    "    4.5\n",
    "    >>> multiply_two_numbers(-2, -4)\n",
    "    8\n",
    "    \"\"\"\n",
    "    return a * b\n",
    "\n",
    "if __name__ == \"__main__\":\n",
    "    import doctest\n",
    "    doctest.testmod(verbose=True)"
   ]
  },
  {
   "cell_type": "code",
   "execution_count": 38,
   "id": "73080edb",
   "metadata": {},
   "outputs": [
    {
     "name": "stdout",
     "output_type": "stream",
     "text": [
      "All tests passed!\n"
     ]
    }
   ],
   "source": [
    "def multiply_two_numbers(a, b):\n",
    "    return a * b\n",
    "\n",
    "def test_multiply_two_numbers():\n",
    "    assert multiply_two_numbers(2, 3) == 6\n",
    "    assert multiply_two_numbers(-1, 5) == -5\n",
    "    assert multiply_two_numbers(0, 100) == 0\n",
    "    assert multiply_two_numbers(3, 1.5) == 4.5\n",
    "    assert multiply_two_numbers(-2, -4) == 8\n",
    "    \n",
    "test_multiply_two_numbers()\n",
    "print(\"All tests passed!\")"
   ]
  },
  {
   "cell_type": "markdown",
   "id": "b5b8bd92",
   "metadata": {},
   "source": [
    "9.3 - Skriv någon kod eller använd någon kod som du till exempel skrivit i tidigare kapitels uppgifter och implementera några test. Använd \"doctest\" och/eller \"pytest\" modulen."
   ]
  },
  {
   "cell_type": "code",
   "execution_count": 42,
   "id": "70886fbb",
   "metadata": {},
   "outputs": [
    {
     "name": "stdout",
     "output_type": "stream",
     "text": [
      "**********************************************************************\n",
      "File \"__main__\", line 5, in __main__.add_two_numbers\n",
      "Failed example:\n",
      "    add_two_numbers(6, 3)\n",
      "Expected:\n",
      "    5\n",
      "Got:\n",
      "    9\n",
      "**********************************************************************\n",
      "1 items had failures:\n",
      "   1 of   5 in __main__.add_two_numbers\n",
      "***Test Failed*** 1 failures.\n"
     ]
    }
   ],
   "source": [
    "def add_two_numbers(a, b):\n",
    "    \"\"\"\n",
    "    Return the sum of a and b.\n",
    "\n",
    "    >>> add_two_numbers(6, 3)\n",
    "    5\n",
    "    >>> add_two_numbers(-1, 5)\n",
    "    4\n",
    "    >>> add_two_numbers(0, 100)\n",
    "    100\n",
    "    >>> add_two_numbers(3, 1.5)\n",
    "    4.5\n",
    "    >>> add_two_numbers(-2, -4)\n",
    "    -6\n",
    "    \"\"\"\n",
    "    return a + b\n",
    "\n",
    "if __name__ == \"__main__\":\n",
    "     doctest.testmod()"
   ]
  },
  {
   "cell_type": "code",
   "execution_count": 49,
   "id": "0c8afca6",
   "metadata": {},
   "outputs": [
    {
     "ename": "AssertionError",
     "evalue": "",
     "output_type": "error",
     "traceback": [
      "\u001b[0;31m---------------------------------------------------------------------------\u001b[0m",
      "\u001b[0;31mAssertionError\u001b[0m                            Traceback (most recent call last)",
      "Cell \u001b[0;32mIn[49], line 11\u001b[0m\n\u001b[1;32m      8\u001b[0m     \u001b[38;5;28;01massert\u001b[39;00m add_two_numbers(\u001b[38;5;241m3\u001b[39m, \u001b[38;5;241m1.7\u001b[39m) \u001b[38;5;241m==\u001b[39m \u001b[38;5;241m4.7\u001b[39m\n\u001b[1;32m      9\u001b[0m     \u001b[38;5;28;01massert\u001b[39;00m add_two_numbers(\u001b[38;5;241m-\u001b[39m\u001b[38;5;241m2\u001b[39m, \u001b[38;5;241m-\u001b[39m\u001b[38;5;241m4\u001b[39m) \u001b[38;5;241m==\u001b[39m \u001b[38;5;241m-\u001b[39m\u001b[38;5;241m6\u001b[39m\n\u001b[0;32m---> 11\u001b[0m test_add_two_numbers()\n\u001b[1;32m     12\u001b[0m \u001b[38;5;28mprint\u001b[39m(\u001b[38;5;124m\"\u001b[39m\u001b[38;5;124mAll tests passed!\u001b[39m\u001b[38;5;124m\"\u001b[39m)\n",
      "Cell \u001b[0;32mIn[49], line 6\u001b[0m, in \u001b[0;36mtest_add_two_numbers\u001b[0;34m()\u001b[0m\n\u001b[1;32m      4\u001b[0m \u001b[38;5;28;01mdef\u001b[39;00m \u001b[38;5;21mtest_add_two_numbers\u001b[39m():\n\u001b[1;32m      5\u001b[0m     \u001b[38;5;28;01massert\u001b[39;00m add_two_numbers(\u001b[38;5;241m2\u001b[39m, \u001b[38;5;241m3\u001b[39m) \u001b[38;5;241m==\u001b[39m \u001b[38;5;241m5\u001b[39m\n\u001b[0;32m----> 6\u001b[0m     \u001b[38;5;28;01massert\u001b[39;00m add_two_numbers(\u001b[38;5;241m-\u001b[39m\u001b[38;5;241m1\u001b[39m, \u001b[38;5;241m5\u001b[39m) \u001b[38;5;241m==\u001b[39m \u001b[38;5;241m-\u001b[39m\u001b[38;5;241m6\u001b[39m\n\u001b[1;32m      7\u001b[0m     \u001b[38;5;28;01massert\u001b[39;00m add_two_numbers(\u001b[38;5;241m0\u001b[39m, \u001b[38;5;241m100\u001b[39m) \u001b[38;5;241m==\u001b[39m \u001b[38;5;241m100\u001b[39m\n\u001b[1;32m      8\u001b[0m     \u001b[38;5;28;01massert\u001b[39;00m add_two_numbers(\u001b[38;5;241m3\u001b[39m, \u001b[38;5;241m1.7\u001b[39m) \u001b[38;5;241m==\u001b[39m \u001b[38;5;241m4.7\u001b[39m\n",
      "\u001b[0;31mAssertionError\u001b[0m: "
     ]
    }
   ],
   "source": [
    "def add_two_numbers(a, b):\n",
    "    return a + b\n",
    "\n",
    "def test_add_two_numbers():\n",
    "    assert add_two_numbers(2, 3) == 5\n",
    "    assert add_two_numbers(-1, 5) == -6\n",
    "    assert add_two_numbers(0, 100) == 100\n",
    "    assert add_two_numbers(3, 1.7) == 4.7\n",
    "    assert add_two_numbers(-2, -4) == -6\n",
    "\n",
    "test_add_two_numbers()\n",
    "print(\"All tests passed!\")"
   ]
  },
  {
   "cell_type": "markdown",
   "id": "3d6ac156",
   "metadata": {},
   "source": [
    "10.3 - Bygg en egen modul som till exempel innehåller två funktioner, importera därefter denna modulen i ett annat skript och prova använd de två funktionerna. Notera att modulen du bygger skall skrivas i ett \"vanligt skript\" (en .py fil) och inte i en jupyter notebook fil (.ipynb). Du kan däremot importera modulen (.py filen) i en jupyter notebook (.ipynb fil).\n",
    "\n",
    "Om du önskar importera en jupyter notebook (.ipynb fil) till en annan jupyter notebook (.ipynb fil) så kan du kolla igenom följande smidiga paket: https://pypi.org/project/import-ipynb/ ."
   ]
  },
  {
   "cell_type": "code",
   "execution_count": 4,
   "id": "2ae40a2a",
   "metadata": {},
   "outputs": [
    {
     "name": "stdout",
     "output_type": "stream",
     "text": [
      "Hello, Bella!\n",
      "The sum is: 30\n"
     ]
    }
   ],
   "source": [
    "import mymodule\n",
    "\n",
    "greeting = mymodule.greet(\"Bella\")\n",
    "print(greeting)\n",
    "\n",
    "result = mymodule.add_numbers(24, 6)\n",
    "print(f\"The sum is: {result}\")"
   ]
  },
  {
   "cell_type": "markdown",
   "id": "4dd11097",
   "metadata": {},
   "source": [
    "11.1 - Varför kan loggfiler med information vara viktiga för exempelvis företag och organisationer?"
   ]
  },
  {
   "cell_type": "markdown",
   "id": "fc686e85",
   "metadata": {},
   "source": [
    "Svar: Loggar kan ge detaljerad information om vad som hände i ett system vid en specifik tidpunkt och kan hjälpa till med felsökning. Man kan även vilja se avvikelser eller upptäcka säkerhetsbrister."
   ]
  },
  {
   "cell_type": "markdown",
   "id": "28587967",
   "metadata": {},
   "source": [
    "11.2 - Vad menas med att det finns olika nivåer för logg-meddelanden?"
   ]
  },
  {
   "cell_type": "markdown",
   "id": "b4750c91",
   "metadata": {},
   "source": [
    "Det finns olika typer av loggmeddelanden som representerar hur allvarliga eller viktiga loggposter är. Exempel på detta kan vara \"Warning\" som innebär att ett problem inte nödvändigtvis stoppar systemet men kan behöva åtgärd. Exception är ett annat exempel som loggar undantag, eller Debug som används vid felsökning."
   ]
  },
  {
   "cell_type": "markdown",
   "id": "dc511a83",
   "metadata": {},
   "source": [
    "11.3 - Skapa ett valfritt program där du också använder dig av logging modulen."
   ]
  },
  {
   "cell_type": "code",
   "execution_count": 5,
   "id": "3741b448",
   "metadata": {},
   "outputs": [
    {
     "name": "stderr",
     "output_type": "stream",
     "text": [
      "2024-09-10 22:57:41,745 - INFO - Counter initialized with value 0.\n",
      "2024-09-10 22:57:41,748 - INFO - Counter incremented by 5. New value is 5.\n",
      "2024-09-10 22:57:41,760 - DEBUG - Current counter value is 5.\n",
      "2024-09-10 22:57:41,764 - ERROR - Invalid input: value must be an integer.\n",
      "2024-09-10 22:57:41,768 - ERROR - Exception occurred\n",
      "Traceback (most recent call last):\n",
      "  File \"/var/folders/xy/lzgkfpy91_n_fgfsdzh7tzs00000gn/T/ipykernel_90352/3360646058.py\", line 34, in <module>\n",
      "    counter.increment(\"string\")  # Detta kommer att generera ett fel\n",
      "    ^^^^^^^^^^^^^^^^^^^^^^^^^^^\n",
      "  File \"/var/folders/xy/lzgkfpy91_n_fgfsdzh7tzs00000gn/T/ipykernel_90352/3360646058.py\", line 17, in increment\n",
      "    raise ValueError(\"Value must be an integer.\")\n",
      "ValueError: Value must be an integer.\n",
      "2024-09-10 22:57:41,774 - INFO - Counter reset to 0.\n",
      "2024-09-10 22:57:41,779 - DEBUG - Current counter value is 0.\n"
     ]
    },
    {
     "name": "stdout",
     "output_type": "stream",
     "text": [
      "Counter value: 5\n",
      "Counter value after reset: 0\n"
     ]
    }
   ],
   "source": [
    "import logging\n",
    "\n",
    "# Konfiguerar loggning med DEBUG\n",
    "logging.basicConfig(\n",
    "    level=logging.DEBUG,\n",
    "    format='%(asctime)s - %(levelname)s - %(message)s',\n",
    "    handlers=[logging.StreamHandler()]\n",
    ")\n",
    "\n",
    "class SimpleCounter:\n",
    "    def __init__(self):\n",
    "        self.count = 0\n",
    "        logging.info(\"Counter initialized with value 0.\")\n",
    "\n",
    "    def increment(self, value):\n",
    "        if not isinstance(value, int):\n",
    "            logging.error(\"Invalid input: value must be an integer.\")\n",
    "            raise ValueError(\"Value must be an integer.\")\n",
    "        self.count += value\n",
    "        logging.info(f\"Counter incremented by {value}. New value is {self.count}.\")\n",
    "\n",
    "    def reset(self):\n",
    "        self.count = 0\n",
    "        logging.info(\"Counter reset to 0.\")\n",
    "\n",
    "    def get_value(self):\n",
    "        logging.debug(f\"Current counter value is {self.count}.\")\n",
    "        return self.count\n",
    "\n",
    "if __name__ == \"__main__\":\n",
    "    counter = SimpleCounter()\n",
    "    try:\n",
    "        counter.increment(5)\n",
    "        print(\"Counter value:\", counter.get_value())\n",
    "        counter.increment(\"string\")\n",
    "    except ValueError as e:\n",
    "        logging.exception(\"Exception occurred\")\n",
    "    counter.reset()\n",
    "    print(\"Counter value after reset:\", counter.get_value())\n"
   ]
  },
  {
   "cell_type": "code",
   "execution_count": null,
   "id": "d81085dc",
   "metadata": {},
   "outputs": [],
   "source": []
  }
 ],
 "metadata": {
  "kernelspec": {
   "display_name": "Python 3 (ipykernel)",
   "language": "python",
   "name": "python3"
  },
  "language_info": {
   "codemirror_mode": {
    "name": "ipython",
    "version": 3
   },
   "file_extension": ".py",
   "mimetype": "text/x-python",
   "name": "python",
   "nbconvert_exporter": "python",
   "pygments_lexer": "ipython3",
   "version": "3.11.4"
  }
 },
 "nbformat": 4,
 "nbformat_minor": 5
}
