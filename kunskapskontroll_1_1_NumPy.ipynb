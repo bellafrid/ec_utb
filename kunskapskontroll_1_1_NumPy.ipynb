{
 "cells": [
  {
   "cell_type": "markdown",
   "id": "dacf74e6",
   "metadata": {},
   "source": [
    "# NumPy"
   ]
  },
  {
   "cell_type": "markdown",
   "id": "01b2bf34",
   "metadata": {},
   "source": [
    "Read the links: https://numpy.org/doc/stable/user/quickstart.html  and https://numpy.org/doc/stable/user/basics.broadcasting.html  before solving the exercises. "
   ]
  },
  {
   "cell_type": "code",
   "execution_count": 1,
   "id": "1f79e4a6",
   "metadata": {},
   "outputs": [],
   "source": [
    "import numpy as np"
   ]
  },
  {
   "cell_type": "markdown",
   "id": "7dae6889",
   "metadata": {},
   "source": [
    "### Print out the dimension (number of axes), shape, size and the datatype of the matrix A."
   ]
  },
  {
   "cell_type": "code",
   "execution_count": 2,
   "id": "7b3678cd",
   "metadata": {},
   "outputs": [],
   "source": [
    "A = np.arange(1, 16).reshape(3,5)"
   ]
  },
  {
   "cell_type": "code",
   "execution_count": 15,
   "id": "31d39235",
   "metadata": {},
   "outputs": [
    {
     "name": "stdout",
     "output_type": "stream",
     "text": [
      "[[ 1  2  3  4  5]\n",
      " [ 6  7  8  9 10]\n",
      " [11 12 13 14 15]]\n",
      "\n",
      "Number of axes: 2\n",
      "Shape: (3, 5)\n",
      "Size: 15\n",
      "Datatype: int64\n"
     ]
    }
   ],
   "source": [
    "print(A)\n",
    "print()\n",
    "print(\"Number of axes:\", A.ndim)\n",
    "print(\"Shape:\", A.shape)\n",
    "print(\"Size:\", A.size)\n",
    "print(\"Datatype:\", A.dtype)"
   ]
  },
  {
   "cell_type": "markdown",
   "id": "e56d2a96",
   "metadata": {},
   "source": [
    "### Do the following computations on the matrices B and C: \n",
    "* Elementwise subtraction. \n",
    "* Elementwise multiplication. \n",
    "* Matrix multiplication (by default you should use the @ operator)."
   ]
  },
  {
   "cell_type": "code",
   "execution_count": 16,
   "id": "a7053fbb",
   "metadata": {},
   "outputs": [
    {
     "name": "stdout",
     "output_type": "stream",
     "text": [
      "[[1 2 3]\n",
      " [4 5 6]\n",
      " [7 8 9]]\n",
      "\n",
      "[[2. 2. 2.]\n",
      " [2. 2. 2.]\n",
      " [2. 2. 2.]]\n"
     ]
    }
   ],
   "source": [
    "B = np.arange(1, 10).reshape(3, 3)\n",
    "C = np.ones((3, 3))*2\n",
    "\n",
    "print(B)\n",
    "print()\n",
    "print(C)"
   ]
  },
  {
   "cell_type": "code",
   "execution_count": 20,
   "id": "3cd794ae",
   "metadata": {},
   "outputs": [
    {
     "name": "stdout",
     "output_type": "stream",
     "text": [
      "Elementwise subtraction:\n",
      "[[-1.  0.  1.]\n",
      " [ 2.  3.  4.]\n",
      " [ 5.  6.  7.]]\n",
      "\n",
      "Elementwise multiplication:\n",
      "[[ 2.  4.  6.]\n",
      " [ 8. 10. 12.]\n",
      " [14. 16. 18.]]\n",
      "\n",
      "Matrix multiplication:\n",
      "[[12. 12. 12.]\n",
      " [30. 30. 30.]\n",
      " [48. 48. 48.]]\n"
     ]
    }
   ],
   "source": [
    "subtraction = B-C\n",
    "print(\"Elementwise subtraction:\")\n",
    "print(subtraction)\n",
    "print()\n",
    "\n",
    "multiplication = B*C\n",
    "print(\"Elementwise multiplication:\")\n",
    "print(multiplication)\n",
    "print()\n",
    "\n",
    "matrix = B@C\n",
    "print(\"Matrix multiplication:\")\n",
    "print(matrix)"
   ]
  },
  {
   "cell_type": "markdown",
   "id": "96030d53",
   "metadata": {},
   "source": [
    "### Do the following calculations on the matrix:\n",
    "* Exponentiate each number elementwise (use the np.exp function).\n",
    "\n",
    "* Calculate the minimum value in the whole matrix. \n",
    "* Calculcate the minimum value in each row. \n",
    "* Calculcate the minimum value in each column. \n",
    "\n",
    "\n",
    "* Find the index value for the minimum value in the whole matrix (hint: use np.argmin).\n",
    "* Find the index value for the minimum value in each row (hint: use np.argmin).\n",
    "\n",
    "\n",
    "* Calculate the sum for all elements.\n",
    "* Calculate the mean for each column. \n",
    "* Calculate the median for each column. "
   ]
  },
  {
   "cell_type": "code",
   "execution_count": 21,
   "id": "f8a9166b",
   "metadata": {},
   "outputs": [
    {
     "name": "stdout",
     "output_type": "stream",
     "text": [
      "[[1 2 3]\n",
      " [4 5 6]\n",
      " [7 8 9]]\n"
     ]
    }
   ],
   "source": [
    "B = np.arange(1, 10).reshape(3, 3)\n",
    "print(B)"
   ]
  },
  {
   "cell_type": "code",
   "execution_count": 33,
   "id": "f03f24f7",
   "metadata": {},
   "outputs": [
    {
     "name": "stdout",
     "output_type": "stream",
     "text": [
      "Exponentiate each number:\n",
      "[[2.71828183e+00 7.38905610e+00 2.00855369e+01]\n",
      " [5.45981500e+01 1.48413159e+02 4.03428793e+02]\n",
      " [1.09663316e+03 2.98095799e+03 8.10308393e+03]]\n",
      "\n",
      "Minimum value of matrix:\n",
      "1\n",
      "\n",
      "Minimum value of each row:\n",
      "[1 4 7]\n",
      "\n",
      "Minimum value of each column:\n",
      "[1 2 3]\n",
      "\n",
      "Minimum index value of matrix:\n",
      "0\n",
      "\n",
      "Minimum index value of each row:\n",
      "[0 0 0]\n",
      "\n",
      "Sum of all elements in matrix:\n",
      "45\n",
      "\n",
      "Mean of each column:\n",
      "[4. 5. 6.]\n",
      "\n",
      "Median of each column:\n",
      "[4. 5. 6.]\n",
      "\n"
     ]
    }
   ],
   "source": [
    "exponentiate = np.exp(B)\n",
    "print(\"Exponentiate each number:\")\n",
    "print(exponentiate)\n",
    "print()\n",
    "\n",
    "minValue = np.min(B)\n",
    "print(\"Minimum value of matrix:\")\n",
    "print(minValue)\n",
    "print()\n",
    "\n",
    "minValRow = np.min(B, axis=0)\n",
    "print(\"Minimum value of each row:\")\n",
    "print(minValRow)\n",
    "print()\n",
    "\n",
    "minValCol = np.min(B, axis=1)\n",
    "print(\"Minimum value of each column:\")\n",
    "print(minValCol)\n",
    "print()\n",
    "\n",
    "indexValue = np.argmin(B)\n",
    "print(\"Minimum index value of matrix:\")\n",
    "print(indexValue)\n",
    "print()\n",
    "\n",
    "indexValRow = np.argmin(B, axis=0)\n",
    "print(\"Minimum index value of each row:\")\n",
    "print(indexValRow)\n",
    "print()\n",
    "\n",
    "sumMatrix = np.sum(B)\n",
    "print(\"Sum of all elements in matrix:\")\n",
    "print(sumMatrix)\n",
    "print()\n",
    "\n",
    "meanCol = np.mean(B, axis=1)\n",
    "print(\"Mean of each column:\")\n",
    "print(meanCol)\n",
    "print()\n",
    "\n",
    "medianCol = np.median(B, axis=1)\n",
    "print(\"Median of each column:\")\n",
    "print(medianCol)\n",
    "print()"
   ]
  },
  {
   "cell_type": "markdown",
   "id": "541eb7ba",
   "metadata": {},
   "source": [
    "### What does it mean when you provide fewer indices than axes when slicing? See example below."
   ]
  },
  {
   "cell_type": "code",
   "execution_count": 35,
   "id": "9c8abf56",
   "metadata": {},
   "outputs": [
    {
     "name": "stdout",
     "output_type": "stream",
     "text": [
      "[[ 1  2  3  4  5]\n",
      " [ 6  7  8  9 10]\n",
      " [11 12 13 14 15]]\n"
     ]
    }
   ],
   "source": [
    "print(A)"
   ]
  },
  {
   "cell_type": "code",
   "execution_count": 34,
   "id": "69415f7b",
   "metadata": {},
   "outputs": [
    {
     "data": {
      "text/plain": [
       "array([ 6,  7,  8,  9, 10])"
      ]
     },
     "execution_count": 34,
     "metadata": {},
     "output_type": "execute_result"
    }
   ],
   "source": [
    "A[1]"
   ]
  },
  {
   "cell_type": "markdown",
   "id": "6c53541b",
   "metadata": {},
   "source": [
    "**Answer:**"
   ]
  },
  {
   "cell_type": "code",
   "execution_count": 38,
   "id": "de01e120",
   "metadata": {},
   "outputs": [
    {
     "name": "stdout",
     "output_type": "stream",
     "text": [
      "You will get a subdimensional array and it leaves the rest of the array unspecified.\n"
     ]
    }
   ],
   "source": [
    "\"\"\"You will get a subdimensional array and it leaves the rest of the array unspecified.\"\"\"\n",
    "print(__doc__)"
   ]
  },
  {
   "cell_type": "markdown",
   "id": "6652d0c9",
   "metadata": {},
   "source": [
    "### Iterating over multidimensional arrays is done with respect to the first axis, so in the example below we iterate trough the rows. If you would like to iterate through the array *elementwise*, how would you do that?"
   ]
  },
  {
   "cell_type": "code",
   "execution_count": 39,
   "id": "9459864f",
   "metadata": {},
   "outputs": [
    {
     "data": {
      "text/plain": [
       "array([[ 1,  2,  3,  4,  5],\n",
       "       [ 6,  7,  8,  9, 10],\n",
       "       [11, 12, 13, 14, 15]])"
      ]
     },
     "execution_count": 39,
     "metadata": {},
     "output_type": "execute_result"
    }
   ],
   "source": [
    "A"
   ]
  },
  {
   "cell_type": "code",
   "execution_count": 53,
   "id": "a671bb5a",
   "metadata": {},
   "outputs": [
    {
     "name": "stdout",
     "output_type": "stream",
     "text": [
      "1\n",
      "2\n",
      "3\n",
      "4\n",
      "5\n",
      "6\n",
      "7\n",
      "8\n",
      "9\n",
      "10\n",
      "11\n",
      "12\n",
      "13\n",
      "14\n",
      "15\n"
     ]
    }
   ],
   "source": [
    "for i in A:\n",
    "    for x in i:\n",
    "        print(x)"
   ]
  },
  {
   "cell_type": "code",
   "execution_count": null,
   "id": "f4e443a0",
   "metadata": {},
   "outputs": [],
   "source": []
  },
  {
   "cell_type": "markdown",
   "id": "608a2583",
   "metadata": {},
   "source": [
    "### Explain what the code below does. More specifically, b has three axes - what does this mean? "
   ]
  },
  {
   "cell_type": "code",
   "execution_count": 58,
   "id": "f8f9b26f",
   "metadata": {},
   "outputs": [
    {
     "name": "stdout",
     "output_type": "stream",
     "text": [
      "[ 0  1  2  3  4  5  6  7  8  9 10 11 12 13 14 15 16 17 18 19 20 21 22 23\n",
      " 24 25 26 27 28 29]\n",
      "\n",
      "[[[ 0  1  2  3  4]\n",
      "  [ 5  6  7  8  9]\n",
      "  [10 11 12 13 14]]\n",
      "\n",
      " [[15 16 17 18 19]\n",
      "  [20 21 22 23 24]\n",
      "  [25 26 27 28 29]]]\n"
     ]
    }
   ],
   "source": [
    "a = np.arange(30)\n",
    "b = a.reshape((2, 3, -1))\n",
    "print(a)\n",
    "print()\n",
    "\n",
    "print(b)"
   ]
  },
  {
   "cell_type": "code",
   "execution_count": 63,
   "id": "863a45df",
   "metadata": {},
   "outputs": [
    {
     "name": "stdout",
     "output_type": "stream",
     "text": [
      "A is an one dimensional array with 30 elements, while B is a 3D array. The 2 means that it will be two \n",
      "blocks/subarrays, the 3 gives the arrays 3 rows each and -1 lets numpy set the number of columns to fit with \n",
      "all the elements in A. The -1 could also be a 5 and the arrays would look the same.\n"
     ]
    }
   ],
   "source": [
    "\"\"\"A is an one dimensional array with 30 elements, while B is a 3D array. The 2 means that it will be two \n",
    "blocks/subarrays, the 3 gives the arrays 3 rows each and -1 lets numpy set the number of columns to fit with \n",
    "all the elements in A. The -1 could also be a 5 and the arrays would look the same.\"\"\"\n",
    "print(__doc__)"
   ]
  },
  {
   "cell_type": "markdown",
   "id": "ab5933d5",
   "metadata": {},
   "source": [
    "### Broadcasting\n",
    "**Read the following link about broadcasting: https://numpy.org/doc/stable/user/basics.broadcasting.html#basics-broadcasting**"
   ]
  },
  {
   "cell_type": "markdown",
   "id": "039805ba",
   "metadata": {},
   "source": [
    "# Remark on Broadcasting when doing Linear Algebra calculations in Python. "
   ]
  },
  {
   "cell_type": "markdown",
   "id": "c4bcc147",
   "metadata": {},
   "source": [
    "### From the mathematical rules of matrix addition, the operation below (m1 + m2) does not make sense. The reason is that matrix addition requires two matrices of the same size. In Python however, it works due to broadcasting rules in NumPy. So you must be careful when doing Linear Algebra calculations in Python since they do not follow the \"mathematical rules\". This can however easily be handled by doing some simple programming, for example validating that two matrices have the same shape is easy if you for instance want to add two matrices. "
   ]
  },
  {
   "cell_type": "code",
   "execution_count": 70,
   "id": "1fd46778",
   "metadata": {},
   "outputs": [
    {
     "name": "stdout",
     "output_type": "stream",
     "text": [
      "[[2 3]\n",
      " [4 5]]\n",
      "\n",
      "(2, 2)\n",
      "(2,)\n"
     ]
    }
   ],
   "source": [
    "m1 = np.array([[1, 2], [3, 4]])\n",
    "m2 = np.array([1, 1])\n",
    "print(m1 + m2)\n",
    "print()\n",
    "print(m1.shape)\n",
    "print(m2.shape)"
   ]
  },
  {
   "cell_type": "markdown",
   "id": "047d6576",
   "metadata": {},
   "source": [
    "### The example below would also not be allowed if following the \"mathematical rules\" in Linear Algebra. But it works due to broadcasting in NumPy. "
   ]
  },
  {
   "cell_type": "code",
   "execution_count": 65,
   "id": "5e6ef2e4",
   "metadata": {},
   "outputs": [
    {
     "name": "stdout",
     "output_type": "stream",
     "text": [
      "[2 3 4]\n"
     ]
    }
   ],
   "source": [
    "v1 = np.array([1, 2, 3])\n",
    "print(v1 + 1)"
   ]
  },
  {
   "cell_type": "code",
   "execution_count": 94,
   "id": "e2cbae26",
   "metadata": {},
   "outputs": [
    {
     "name": "stdout",
     "output_type": "stream",
     "text": [
      "[[1 2]\n",
      " [3 4]]\n",
      "[2 2]\n",
      "\n",
      "[[3 4]\n",
      " [5 6]]\n"
     ]
    }
   ],
   "source": [
    "A = np.arange(1, 5).reshape(2,2)\n",
    "print(A)\n",
    "\n",
    "b = np.array([2, 2])\n",
    "print(b)\n",
    "print()\n",
    "print(A+b)"
   ]
  },
  {
   "cell_type": "markdown",
   "id": "722fd5cd",
   "metadata": {},
   "source": [
    "# Linear Algebra Exercises"
   ]
  },
  {
   "cell_type": "markdown",
   "id": "b8935099",
   "metadata": {},
   "source": [
    "The exercies are taken from the \"Matrix Algebra for Engineers\" by Chasnov: https://www.math.hkust.edu.hk/~machas/matrix-algebra-for-engineers.pdf .\n",
    "\n",
    "Do the following exercises: \n",
    "* Chapter 2, exercise 1-3.\n",
    "* Quiz on p.11, exercise 2. \n",
    "* Chapter 6, exercise 1. \n",
    "* Quiz on p.19, exercise 3. \n",
    "\n",
    "\n",
    "* Chapter 10, exercise 1. \n",
    "* Chapter 12 exercise 1. \n"
   ]
  },
  {
   "cell_type": "code",
   "execution_count": 95,
   "id": "a452a77a",
   "metadata": {},
   "outputs": [
    {
     "name": "stdout",
     "output_type": "stream",
     "text": [
      "[[ 2  1 -1]\n",
      " [ 1 -1  1]]\n",
      "[[ 4 -2  1]\n",
      " [ 2 -4 -2]]\n",
      "[[1 2]\n",
      " [2 1]]\n",
      "[[3 4]\n",
      " [4 3]]\n",
      "[[1]\n",
      " [2]]\n"
     ]
    }
   ],
   "source": [
    "MA = np.array([[2, 1, -1], [1, -1, 1]])\n",
    "MB = np.array([[4, -2, 1], [2, -4, -2]])\n",
    "\n",
    "MC = np.array([[1, 2], [2, 1]])\n",
    "MD = np.array([[3, 4], [4, 3]])\n",
    "\n",
    "ME = np.array([[1], [2]])\n",
    "\n",
    "print(MA)\n",
    "print(MB)\n",
    "print(MC)\n",
    "print(MD)\n",
    "print(ME)"
   ]
  },
  {
   "cell_type": "markdown",
   "id": "9d8366cc",
   "metadata": {},
   "source": [
    "**Chap2. Question 1.**\n",
    "\n",
    "**Write a function \"add_mult_matrices\" that takes two matrices as input arguments (validate that the input are of the type numpy.ndarray by using the isinstance function), a third argument that is either 'add' or 'multiply' that specifies if you want to add or multiply the matrices (validate that the third argument is either 'add' or 'multiply'). When doing matrix addition, validate that the matrices have the same size. When doing matrix multiplication, validate that the sizes conform (i.e. number of columns in the first matrix is equal to the number of rows in the second matrix).**\n",
    "\n",
    "In this exercise, create a function that takes two matrices as input and either adds or multiplies them by specifying a argument as either 'add' or 'multiply'. Validate that both matrices taken as input are of the type ndarray (use the isinstance function)."
   ]
  },
  {
   "cell_type": "code",
   "execution_count": 84,
   "id": "535ee48c",
   "metadata": {},
   "outputs": [],
   "source": [
    "def add_mult_matrices(MA, MB, action):\n",
    "    if not (isinstance(MA, np.ndarray) and isinstance(MB, np.ndarray)):\n",
    "            raise ValueError(\"Both matrices needs to be the same type of array.\")\n",
    "    \n",
    "    if action not in ['add', 'multiply']:\n",
    "            raise ValueError(\"You can only use add or multiply with this function.\")\n",
    "            \n",
    "    if action == 'add':\n",
    "            if MA.shape != MB.shape:\n",
    "                raise ValueError(\"Matrices needs to have the same shape for addition.\")\n",
    "            else:\n",
    "                return MA + MB\n",
    "    \n",
    "    elif action == 'multiply':\n",
    "            if MA.shape[1] != MB.shape[0]:\n",
    "                raise ValueError(\"The sizes does not comply to multiplication.\")\n",
    "            else:\n",
    "                return MA @ MB"
   ]
  },
  {
   "cell_type": "code",
   "execution_count": 101,
   "id": "2ab61651",
   "metadata": {},
   "outputs": [
    {
     "data": {
      "text/plain": [
       "array([[ 0, -4,  3],\n",
       "       [ 0, -2, -4]])"
      ]
     },
     "execution_count": 101,
     "metadata": {},
     "output_type": "execute_result"
    }
   ],
   "source": [
    "add_mult_matrices(MB, -2*MA, 'add')"
   ]
  },
  {
   "cell_type": "code",
   "execution_count": 102,
   "id": "edb89e4d",
   "metadata": {},
   "outputs": [
    {
     "ename": "ValueError",
     "evalue": "Matrices needs to have the same shape for addition.",
     "output_type": "error",
     "traceback": [
      "\u001b[0;31m---------------------------------------------------------------------------\u001b[0m",
      "\u001b[0;31mValueError\u001b[0m                                Traceback (most recent call last)",
      "Cell \u001b[0;32mIn[102], line 1\u001b[0m\n\u001b[0;32m----> 1\u001b[0m add_mult_matrices(\u001b[38;5;241m3\u001b[39m\u001b[38;5;241m*\u001b[39mMC, \u001b[38;5;241m-\u001b[39mME, \u001b[38;5;124m'\u001b[39m\u001b[38;5;124madd\u001b[39m\u001b[38;5;124m'\u001b[39m)\n",
      "Cell \u001b[0;32mIn[84], line 10\u001b[0m, in \u001b[0;36madd_mult_matrices\u001b[0;34m(A, B, action)\u001b[0m\n\u001b[1;32m      8\u001b[0m \u001b[38;5;28;01mif\u001b[39;00m action \u001b[38;5;241m==\u001b[39m \u001b[38;5;124m'\u001b[39m\u001b[38;5;124madd\u001b[39m\u001b[38;5;124m'\u001b[39m:\n\u001b[1;32m      9\u001b[0m         \u001b[38;5;28;01mif\u001b[39;00m A\u001b[38;5;241m.\u001b[39mshape \u001b[38;5;241m!=\u001b[39m B\u001b[38;5;241m.\u001b[39mshape:\n\u001b[0;32m---> 10\u001b[0m             \u001b[38;5;28;01mraise\u001b[39;00m \u001b[38;5;167;01mValueError\u001b[39;00m(\u001b[38;5;124m\"\u001b[39m\u001b[38;5;124mMatrices needs to have the same shape for addition.\u001b[39m\u001b[38;5;124m\"\u001b[39m)\n\u001b[1;32m     11\u001b[0m         \u001b[38;5;28;01melse\u001b[39;00m:\n\u001b[1;32m     12\u001b[0m             \u001b[38;5;28;01mreturn\u001b[39;00m A \u001b[38;5;241m+\u001b[39m B\n",
      "\u001b[0;31mValueError\u001b[0m: Matrices needs to have the same shape for addition."
     ]
    }
   ],
   "source": [
    "add_mult_matrices(3*MC, -ME, 'add')"
   ]
  },
  {
   "cell_type": "code",
   "execution_count": 103,
   "id": "d9340992",
   "metadata": {},
   "outputs": [
    {
     "ename": "ValueError",
     "evalue": "The sizes does not comply to multiplication.",
     "output_type": "error",
     "traceback": [
      "\u001b[0;31m---------------------------------------------------------------------------\u001b[0m",
      "\u001b[0;31mValueError\u001b[0m                                Traceback (most recent call last)",
      "Cell \u001b[0;32mIn[103], line 1\u001b[0m\n\u001b[0;32m----> 1\u001b[0m add_mult_matrices(MA, MC, \u001b[38;5;124m'\u001b[39m\u001b[38;5;124mmultiply\u001b[39m\u001b[38;5;124m'\u001b[39m)\n",
      "Cell \u001b[0;32mIn[84], line 16\u001b[0m, in \u001b[0;36madd_mult_matrices\u001b[0;34m(A, B, action)\u001b[0m\n\u001b[1;32m     14\u001b[0m \u001b[38;5;28;01melif\u001b[39;00m action \u001b[38;5;241m==\u001b[39m \u001b[38;5;124m'\u001b[39m\u001b[38;5;124mmultiply\u001b[39m\u001b[38;5;124m'\u001b[39m:\n\u001b[1;32m     15\u001b[0m         \u001b[38;5;28;01mif\u001b[39;00m A\u001b[38;5;241m.\u001b[39mshape[\u001b[38;5;241m1\u001b[39m] \u001b[38;5;241m!=\u001b[39m B\u001b[38;5;241m.\u001b[39mshape[\u001b[38;5;241m0\u001b[39m]:\n\u001b[0;32m---> 16\u001b[0m             \u001b[38;5;28;01mraise\u001b[39;00m \u001b[38;5;167;01mValueError\u001b[39;00m(\u001b[38;5;124m\"\u001b[39m\u001b[38;5;124mThe sizes does not comply to multiplication.\u001b[39m\u001b[38;5;124m\"\u001b[39m)\n\u001b[1;32m     17\u001b[0m         \u001b[38;5;28;01melse\u001b[39;00m:\n\u001b[1;32m     18\u001b[0m             \u001b[38;5;28;01mreturn\u001b[39;00m A \u001b[38;5;241m@\u001b[39m B\n",
      "\u001b[0;31mValueError\u001b[0m: The sizes does not comply to multiplication."
     ]
    }
   ],
   "source": [
    "add_mult_matrices(MA, MC, 'multiply')"
   ]
  },
  {
   "cell_type": "code",
   "execution_count": 104,
   "id": "53f2b23e",
   "metadata": {},
   "outputs": [
    {
     "data": {
      "text/plain": [
       "array([[11, 10],\n",
       "       [10, 11]])"
      ]
     },
     "execution_count": 104,
     "metadata": {},
     "output_type": "execute_result"
    }
   ],
   "source": [
    "add_mult_matrices(MC, MD, 'multiply')"
   ]
  },
  {
   "cell_type": "code",
   "execution_count": 105,
   "id": "5f3ed22e",
   "metadata": {},
   "outputs": [
    {
     "data": {
      "text/plain": [
       "array([[  8, -10,  -3],\n",
       "       [ 10,  -8,   0]])"
      ]
     },
     "execution_count": 105,
     "metadata": {},
     "output_type": "execute_result"
    }
   ],
   "source": [
    "add_mult_matrices(MC, MB, 'multiply')"
   ]
  },
  {
   "cell_type": "markdown",
   "id": "5000c829",
   "metadata": {},
   "source": [
    "**Chap2. Question 2**"
   ]
  },
  {
   "cell_type": "code",
   "execution_count": 106,
   "id": "44dab740",
   "metadata": {},
   "outputs": [],
   "source": [
    "MA1 = np.array([[1, 2], [2, 4]])\n",
    "MB1 = np.array([[2, 1], [1, 3]])\n",
    "MC1 = np.array([[4, 3], [0, 2]])"
   ]
  },
  {
   "cell_type": "code",
   "execution_count": 110,
   "id": "890e1387",
   "metadata": {},
   "outputs": [
    {
     "name": "stdout",
     "output_type": "stream",
     "text": [
      "[[ 4  7]\n",
      " [ 8 14]]\n",
      "\n",
      "[[ 4  7]\n",
      " [ 8 14]]\n",
      "\n",
      "True\n",
      "False\n"
     ]
    }
   ],
   "source": [
    "MA1MB1 = add_mult_matrices(MA1, MB1, 'multiply')\n",
    "MA1MC1 = add_mult_matrices(MA1, MC1, 'multiply')\n",
    "\n",
    "print(MA1MB1)\n",
    "print()\n",
    "print(MA1MC1)\n",
    "print()\n",
    "\n",
    "print((MA1MB1 == MA1MC1).all())  \n",
    "print((MB1 == MC1).all()) "
   ]
  },
  {
   "cell_type": "markdown",
   "id": "a7f5b140",
   "metadata": {},
   "source": [
    "**Chap2. Question 3**"
   ]
  },
  {
   "cell_type": "code",
   "execution_count": 111,
   "id": "668b1323",
   "metadata": {},
   "outputs": [],
   "source": [
    "A = np.array([[1, 1, 1], [1, 2, 3], [1, 3, 4]])\n",
    "D = np.array([[2, 0, 0], [0, 3, 0], [0, 0, 4]])"
   ]
  },
  {
   "cell_type": "code",
   "execution_count": 114,
   "id": "2da168a1",
   "metadata": {},
   "outputs": [
    {
     "name": "stdout",
     "output_type": "stream",
     "text": [
      "[[ 2  3  4]\n",
      " [ 2  6 12]\n",
      " [ 2  9 16]]\n",
      "\n",
      "[[ 2  2  2]\n",
      " [ 3  6  9]\n",
      " [ 4 12 16]]\n"
     ]
    }
   ],
   "source": [
    "AD = add_mult_matrices(A, D, 'multiply')\n",
    "DA = add_mult_matrices(D, A, 'multiply')\n",
    "\n",
    "print(AD)\n",
    "print()\n",
    "print(DA)"
   ]
  },
  {
   "cell_type": "markdown",
   "id": "334ca623",
   "metadata": {},
   "source": [
    "**Quiz p.11, Question 2**"
   ]
  },
  {
   "cell_type": "code",
   "execution_count": 115,
   "id": "b031a786",
   "metadata": {},
   "outputs": [],
   "source": [
    "N1 = np.array([[1, -1], [-1, 1]])\n",
    "N2 = np.array([[-1, 1], [1, -1]])"
   ]
  },
  {
   "cell_type": "code",
   "execution_count": 117,
   "id": "021307c1",
   "metadata": {},
   "outputs": [
    {
     "name": "stdout",
     "output_type": "stream",
     "text": [
      "[[-2  2]\n",
      " [ 2 -2]]\n"
     ]
    }
   ],
   "source": [
    "N1N2 = add_mult_matrices(N1, N2, 'multiply')\n",
    "print(N1N2)"
   ]
  },
  {
   "cell_type": "markdown",
   "id": "fbfb4124",
   "metadata": {},
   "source": [
    "**Chap 6. Question 1**"
   ]
  },
  {
   "cell_type": "code",
   "execution_count": 120,
   "id": "9c68d160",
   "metadata": {},
   "outputs": [
    {
     "name": "stdout",
     "output_type": "stream",
     "text": [
      "[[ 5. -6.]\n",
      " [-4.  5.]]\n",
      "\n",
      "[[ 0.5        -0.66666667]\n",
      " [-0.5         1.        ]]\n"
     ]
    }
   ],
   "source": [
    "N3 = np.array([[5, 6], [4, 5]])\n",
    "N4 = np.array([[6, 4], [3, 3]])\n",
    "\n",
    "new_N3 = np.linalg.inv(N3)\n",
    "new_N4 = np.linalg.inv(N4)\n",
    "\n",
    "print(new_N3)\n",
    "print()\n",
    "print(new_N4)"
   ]
  },
  {
   "cell_type": "markdown",
   "id": "574b6d18",
   "metadata": {},
   "source": [
    "**Quiz p.19, Question 3**"
   ]
  },
  {
   "cell_type": "code",
   "execution_count": 129,
   "id": "c4cc11eb",
   "metadata": {},
   "outputs": [
    {
     "name": "stdout",
     "output_type": "stream",
     "text": [
      "[[ 1.  -1. ]\n",
      " [-0.5  1. ]]\n",
      "\n",
      "[[ 2. -2.]\n",
      " [-1.  2.]]\n",
      "\n",
      "The answer is A, 1/2 [2, -2], [-1, 2].\n"
     ]
    }
   ],
   "source": [
    "A11 = np.array([[2, 2], [1, 2]])\n",
    "A11_new = np.linalg.inv(A11)\n",
    "print(A11_new)\n",
    "print()\n",
    "print(A11_new *2)\n",
    "print()\n",
    "\n",
    "\"\"\"The answer is A, 1/2 [2, -2], [-1, 2].\"\"\"\n",
    "print(__doc__)"
   ]
  },
  {
   "cell_type": "markdown",
   "id": "5de93779",
   "metadata": {},
   "source": [
    "**Chap10. Question 1 a)**"
   ]
  },
  {
   "cell_type": "code",
   "execution_count": 130,
   "id": "e9a63544",
   "metadata": {},
   "outputs": [
    {
     "name": "stdout",
     "output_type": "stream",
     "text": [
      "[[ 3 -7 -2]\n",
      " [-3  5  1]\n",
      " [ 6 -4  0]]\n",
      "\n",
      "[-7  5  2]\n"
     ]
    }
   ],
   "source": [
    "M11 = np.array([[3, -7, -2], [-3, 5, 1], [6, -4, 0]])\n",
    "M12 = np.array([-7, 5, 2])\n",
    "print(M11)\n",
    "print()\n",
    "print(M12)"
   ]
  },
  {
   "cell_type": "code",
   "execution_count": 132,
   "id": "ecec548d",
   "metadata": {},
   "outputs": [
    {
     "name": "stdout",
     "output_type": "stream",
     "text": [
      "[ 3.  4. -6.]\n"
     ]
    }
   ],
   "source": [
    "x = np.linalg.solve(M11, M12)\n",
    "print(x)"
   ]
  },
  {
   "cell_type": "markdown",
   "id": "3f49e9e1",
   "metadata": {},
   "source": [
    "**Chap10. Question 1 b)**"
   ]
  },
  {
   "cell_type": "code",
   "execution_count": 135,
   "id": "6f6e72fb",
   "metadata": {},
   "outputs": [
    {
     "name": "stdout",
     "output_type": "stream",
     "text": [
      "[[ 1 -2  3]\n",
      " [-1  3 -1]\n",
      " [ 2 -5  5]]\n",
      "\n",
      "[ 1 -1  1]\n",
      "\n",
      "[ 8.  2. -1.]\n"
     ]
    }
   ],
   "source": [
    "A21 = np.array([[1, -2, 3], [-1, 3, -1], [2, -5, 5]])\n",
    "B22 = np.array([1, -1, 1])\n",
    "\n",
    "print(A21)\n",
    "print()\n",
    "print(B22)\n",
    "\n",
    "print()\n",
    "\n",
    "y = np.linalg.solve(A21, B22)\n",
    "print(y)"
   ]
  },
  {
   "cell_type": "markdown",
   "id": "beb0a8af",
   "metadata": {},
   "source": [
    "**Chap 12. Question 1**"
   ]
  },
  {
   "cell_type": "code",
   "execution_count": 137,
   "id": "4fe15c46",
   "metadata": {},
   "outputs": [
    {
     "name": "stdout",
     "output_type": "stream",
     "text": [
      "[[ 3 -7 -2]\n",
      " [-3  5  1]\n",
      " [ 6 -4  0]]\n",
      "\n",
      "[[ 0.66666667  1.33333333  0.5       ]\n",
      " [ 1.          2.          0.5       ]\n",
      " [-3.         -5.         -1.        ]]\n"
     ]
    }
   ],
   "source": [
    "V = np.array([[3, -7, -2], [-3, 5, 1], [6, -4, 0]])\n",
    "print(V)\n",
    "print()\n",
    "\n",
    "V_new = np.linalg.inv(V)\n",
    "print(V_new)"
   ]
  },
  {
   "cell_type": "markdown",
   "id": "6a4a524f",
   "metadata": {},
   "source": [
    "### Copies and Views\n",
    "Read the following link: https://numpy.org/doc/stable/user/basics.copies.html"
   ]
  },
  {
   "cell_type": "markdown",
   "id": "6cbbeaf7",
   "metadata": {},
   "source": [
    "**Basic indexing creates a view, How can you check if v1 and v2 is a view or copy? If you change the last element in v2 to 123, will the last element in v1 be changed? Why?**"
   ]
  },
  {
   "cell_type": "code",
   "execution_count": 143,
   "id": "5b9ef4df",
   "metadata": {},
   "outputs": [
    {
     "name": "stdout",
     "output_type": "stream",
     "text": [
      "[0 1 2 3]\n",
      "[2 3]\n"
     ]
    }
   ],
   "source": [
    "v1 = np.arange(4)\n",
    "v2 = v1[-2:]\n",
    "print(v1)\n",
    "print(v2)"
   ]
  },
  {
   "cell_type": "code",
   "execution_count": 139,
   "id": "d2440489",
   "metadata": {},
   "outputs": [
    {
     "name": "stdout",
     "output_type": "stream",
     "text": [
      "None\n",
      "[0 1 2 3]\n"
     ]
    }
   ],
   "source": [
    "# The base attribute of a view returns the original array while it returns None for a copy.\n",
    "print(v1.base)\n",
    "print(v2.base)"
   ]
  },
  {
   "cell_type": "code",
   "execution_count": 140,
   "id": "c8752807",
   "metadata": {},
   "outputs": [
    {
     "name": "stdout",
     "output_type": "stream",
     "text": [
      "[  0   1   2 123]\n",
      "[  2 123]\n"
     ]
    }
   ],
   "source": [
    "# The last element in v1 will be changed aswell since v2 is a view, meaning they share the same data buffer.\n",
    "v2[-1] = 123\n",
    "print(v1)\n",
    "print(v2)"
   ]
  },
  {
   "cell_type": "code",
   "execution_count": 144,
   "id": "3dd68221",
   "metadata": {},
   "outputs": [
    {
     "name": "stdout",
     "output_type": "stream",
     "text": [
      "The answers to this questions is written in the comments above. :)\n"
     ]
    }
   ],
   "source": [
    "\"\"\"The answers to this questions is written in the comments above. :)\"\"\"\n",
    "print(__doc__)"
   ]
  }
 ],
 "metadata": {
  "kernelspec": {
   "display_name": "Python 3 (ipykernel)",
   "language": "python",
   "name": "python3"
  },
  "language_info": {
   "codemirror_mode": {
    "name": "ipython",
    "version": 3
   },
   "file_extension": ".py",
   "mimetype": "text/x-python",
   "name": "python",
   "nbconvert_exporter": "python",
   "pygments_lexer": "ipython3",
   "version": "3.11.4"
  }
 },
 "nbformat": 4,
 "nbformat_minor": 5
}
